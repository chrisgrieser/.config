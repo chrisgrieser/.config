print("hiiiiii")


ls 1s
