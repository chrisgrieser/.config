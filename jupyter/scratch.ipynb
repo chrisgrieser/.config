{
 "cells": [
  {
   "cell_type": "code",
   "execution_count": null,
   "id": "b6175f19",
   "metadata": {
    "collapsed": false,
    "jupyter": {
     "outputs_hidden": false,
     "source_hidden": false
    }
   },
   "outputs": [],
   "source": [
    "print(\"hiiiiii\")"
   ]
  },
  {
   "cell_type": "code",
   "execution_count": null,
   "id": "e28bc76c",
   "metadata": {},
   "outputs": [],
   "source": [
    "ls 1s"
   ]
  }
 ],
 "metadata": {
  "kernelspec": {
   "display_name": "Python 3 (ipykernel)",
   "language": "python",
   "name": "python3"
  },
  "language_info": {
   "codemirror_mode": {
    "name": "ipython",
    "version": 3
   },
   "file_extension": ".py",
   "mimetype": "text/x-python",
   "name": "python",
   "nbconvert_exporter": "python",
   "pygments_lexer": "ipython3",
   "version": "3.8.18"
  },
  "widgets": {
   "application/vnd.jupyter.widget-state+json": {
    "state": {},
    "version_major": 2,
    "version_minor": 0
   }
  }
 },
 "nbformat": 4,
 "nbformat_minor": 5
}
